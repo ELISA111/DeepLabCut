{
 "cells": [
  {
   "cell_type": "code",
   "execution_count": 1,
   "id": "initial_id",
   "metadata": {
    "jupyter": {
     "is_executing": true
    }
   },
   "outputs": [
    {
     "name": "stderr",
     "output_type": "stream",
     "text": [
      "2024-05-25 19:06:15.080028: I tensorflow/core/platform/cpu_feature_guard.cc:193] This TensorFlow binary is optimized with oneAPI Deep Neural Network Library (oneDNN) to use the following CPU instructions in performance-critical operations:  AVX2 AVX_VNNI FMA\n",
      "To enable them in other operations, rebuild TensorFlow with the appropriate compiler flags.\n",
      "2024-05-25 19:06:15.138536: I tensorflow/core/util/util.cc:169] oneDNN custom operations are on. You may see slightly different numerical results due to floating-point round-off errors from different computation orders. To turn them off, set the environment variable `TF_ENABLE_ONEDNN_OPTS=0`.\n",
      "2024-05-25 19:06:15.158964: E tensorflow/stream_executor/cuda/cuda_blas.cc:2981] Unable to register cuBLAS factory: Attempting to register factory for plugin cuBLAS when one has already been registered\n",
      "2024-05-25 19:06:15.509351: W tensorflow/stream_executor/platform/default/dso_loader.cc:64] Could not load dynamic library 'libnvinfer.so.7'; dlerror: libnvinfer.so.7: cannot open shared object file: No such file or directory\n",
      "2024-05-25 19:06:15.509384: W tensorflow/stream_executor/platform/default/dso_loader.cc:64] Could not load dynamic library 'libnvinfer_plugin.so.7'; dlerror: libnvinfer_plugin.so.7: cannot open shared object file: No such file or directory\n",
      "2024-05-25 19:06:15.509387: W tensorflow/compiler/tf2tensorrt/utils/py_utils.cc:38] TF-TRT Warning: Cannot dlopen some TensorRT libraries. If you would like to use Nvidia GPU with TensorRT, please make sure the missing libraries mentioned above are installed properly.\n"
     ]
    },
    {
     "name": "stdout",
     "output_type": "stream",
     "text": [
      "Loading DLC 2.3.9...\n"
     ]
    }
   ],
   "source": [
    "import deeplabcut"
   ]
  },
  {
   "cell_type": "code",
   "execution_count": 2,
   "id": "2001c284c09d770c",
   "metadata": {},
   "outputs": [
    {
     "name": "stdout",
     "output_type": "stream",
     "text": [
      "Created \"/home/elisa/PycharmProjects/DeepLabCut/examples/JUPYTER/cutemice-teamdlc-2024-05-25/videos\"\n",
      "Created \"/home/elisa/PycharmProjects/DeepLabCut/examples/JUPYTER/cutemice-teamdlc-2024-05-25/labeled-data\"\n",
      "Created \"/home/elisa/PycharmProjects/DeepLabCut/examples/JUPYTER/cutemice-teamdlc-2024-05-25/training-datasets\"\n",
      "Created \"/home/elisa/PycharmProjects/DeepLabCut/examples/JUPYTER/cutemice-teamdlc-2024-05-25/dlc-models\"\n",
      "Copying the videos\n",
      "/home/elisa/PycharmProjects/DeepLabCut/examples/JUPYTER/cutemice-teamdlc-2024-05-25/videos/output_video_test2.mp4\n",
      "Generated \"/home/elisa/PycharmProjects/DeepLabCut/examples/JUPYTER/cutemice-teamdlc-2024-05-25/config.yaml\"\n",
      "\n",
      "A new project with name cutemice-teamdlc-2024-05-25 is created at /home/elisa/PycharmProjects/DeepLabCut/examples/JUPYTER and a configurable file (config.yaml) is stored there. Change the parameters in this file to adapt to your project's needs.\n",
      " Once you have changed the configuration file, use the function 'extract_frames' to select frames for labeling.\n",
      ". [OPTIONAL] Use the function 'add_new_videos' to add new videos to your project (at any stage).\n"
     ]
    }
   ],
   "source": [
    "project_name = \"cutemice\"\n",
    "experimenter = \"teamdlc\"\n",
    "video_path = \"/home/elisa/Documents/bees data/output_video_test2.mp4\"\n",
    "config_path = deeplabcut.create_new_project(\n",
    "    project_name,\n",
    "    experimenter,\n",
    "    [\"/home/elisa/Documents/bees data/output_video_test2.mp4\"],\n",
    "    multianimal=True,\n",
    "    copy_videos=True,\n",
    ")"
   ]
  },
  {
   "cell_type": "code",
   "execution_count": 3,
   "id": "8e559454837551fe",
   "metadata": {},
   "outputs": [
    {
     "name": "stdout",
     "output_type": "stream",
     "text": [
      "Config file read successfully.\n",
      "Extracting frames based on kmeans ...\n",
      "Kmeans-quantization based extracting of frames from 0.0  seconds to 40.8  seconds.\n",
      "Extracting and downsampling... 1224  frames from the video.\n"
     ]
    },
    {
     "name": "stderr",
     "output_type": "stream",
     "text": [
      "1224it [00:07, 163.64it/s]\n"
     ]
    },
    {
     "name": "stdout",
     "output_type": "stream",
     "text": [
      "Kmeans clustering ... (this might take a while)\n",
      "Frames were successfully extracted, for the videos listed in the config.yaml file.\n",
      "\n",
      "You can now label the frames using the function 'label_frames' (Note, you should label frames extracted from diverse videos (and many videos; we do not recommend training on single videos!)).\n"
     ]
    }
   ],
   "source": [
    "deeplabcut.extract_frames(\n",
    "    config_path,\n",
    "    mode=\"automatic\",\n",
    "    algo=\"kmeans\",\n",
    "    userfeedback=False,\n",
    ")"
   ]
  },
  {
   "cell_type": "code",
   "execution_count": 4,
   "id": "2c98fbd184442bc",
   "metadata": {},
   "outputs": [],
   "source": [
    "deeplabcut.label_frames(config_path)"
   ]
  },
  {
   "cell_type": "code",
   "execution_count": null,
   "id": "fb88f98e034f4e2e",
   "metadata": {},
   "outputs": [],
   "source": [
    "deeplabcut.check_labels(\n",
    "    config_path,\n",
    "    draw_skeleton=False,\n",
    ")"
   ]
  },
  {
   "cell_type": "code",
   "execution_count": null,
   "id": "26bcee24ef891303",
   "metadata": {},
   "outputs": [],
   "source": []
  },
  {
   "cell_type": "code",
   "execution_count": null,
   "id": "96c6f90c630764a3",
   "metadata": {},
   "outputs": [],
   "source": []
  },
  {
   "cell_type": "code",
   "execution_count": null,
   "id": "fbe8ff19a36cfae0",
   "metadata": {},
   "outputs": [],
   "source": []
  },
  {
   "cell_type": "code",
   "execution_count": null,
   "id": "b0679dd8dd364ca9",
   "metadata": {},
   "outputs": [],
   "source": []
  }
 ],
 "metadata": {
  "kernelspec": {
   "display_name": "Python [conda env:DEEPLABCUT]",
   "language": "python",
   "name": "conda-env-DEEPLABCUT-py"
  },
  "language_info": {
   "codemirror_mode": {
    "name": "ipython",
    "version": 3
   },
   "file_extension": ".py",
   "mimetype": "text/x-python",
   "name": "python",
   "nbconvert_exporter": "python",
   "pygments_lexer": "ipython3",
   "version": "3.9.19"
  }
 },
 "nbformat": 4,
 "nbformat_minor": 5
}
